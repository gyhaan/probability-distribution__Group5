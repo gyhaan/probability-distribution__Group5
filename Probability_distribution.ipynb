{
  "nbformat": 4,
  "nbformat_minor": 0,
  "metadata": {
    "colab": {
      "provenance": [],
      "authorship_tag": "ABX9TyO6PYMnLEMqFTDCkT5tYO93",
      "include_colab_link": true
    },
    "kernelspec": {
      "name": "python3",
      "display_name": "Python 3"
    },
    "language_info": {
      "name": "python"
    }
  },
  "cells": [
    {
      "cell_type": "markdown",
      "metadata": {
        "id": "view-in-github",
        "colab_type": "text"
      },
      "source": [
        "<a href=\"https://colab.research.google.com/github/gyhaan/probability-distribution__Group5/blob/main/Probability_distribution.ipynb\" target=\"_parent\"><img src=\"https://colab.research.google.com/assets/colab-badge.svg\" alt=\"Open In Colab\"/></a>"
      ]
    },
    {
      "cell_type": "markdown",
      "source": [
        "# BINOMIAL DISTRIBUTION\n",
        "## Question:\n",
        "### In the United States, 45% of people have at least one chronic disease\n",
        "### (such as heart disease, cancer, diabetes, obesity, or hypertension).\n",
        "\n",
        "### If we randomly select 10 people, what is the probability distribution\n",
        "### of having 0 to 10 people with a chronic disease?\n",
        "\n",
        "### We will use the Binomial Distribution to compute and visualize this.\n",
        "### =======================\n"
      ],
      "metadata": {
        "id": "UrD2SGiLEkjJ"
      }
    },
    {
      "cell_type": "code",
      "execution_count": null,
      "metadata": {
        "id": "89Lx_tZBDYB2"
      },
      "outputs": [],
      "source": [
        "# import libraries\n",
        "import numpy as np\n",
        "import matplotlib.pyplot as plt\n",
        "import math"
      ]
    },
    {
      "cell_type": "code",
      "source": [
        "def binomial_pmf(n, p, k):\n",
        "    \"\"\"\n",
        "    Compute the probability of exactly k successes in n trials using\n",
        "    the binomial probability mass function.\n",
        "\n",
        "    Formula: P(X = k) = (nCk) * (p^k) * (1 - p)^(n - k)\n",
        "    \"\"\"\n",
        "    nCk = math.comb(n, k)  # Compute combinations using NumPy\n",
        "    return nCk * (p ** k) * ((1 - p) ** (n - k))"
      ],
      "metadata": {
        "id": "moV4AXKME7Mc"
      },
      "execution_count": null,
      "outputs": []
    }
  ]
}