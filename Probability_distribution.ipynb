{
  "nbformat": 4,
  "nbformat_minor": 0,
  "metadata": {
    "colab": {
      "provenance": [],
      "include_colab_link": true
    },
    "kernelspec": {
      "name": "python3",
      "display_name": "Python 3"
    },
    "language_info": {
      "name": "python"
    }
  },
  "cells": [
    {
      "cell_type": "markdown",
      "metadata": {
        "id": "view-in-github",
        "colab_type": "text"
      },
      "source": [
        "<a href=\"https://colab.research.google.com/github/gyhaan/probability-distribution__Group5/blob/main/Probability_distribution.ipynb\" target=\"_parent\"><img src=\"https://colab.research.google.com/assets/colab-badge.svg\" alt=\"Open In Colab\"/></a>"
      ]
    },
    {
      "cell_type": "markdown",
      "source": [
        "# BINOMIAL DISTRIBUTION\n",
        "## Question:\n",
        "### In the United States, 45% of people have at least one chronic disease\n",
        "### (such as heart disease, cancer, diabetes, obesity, or hypertension).\n",
        "\n",
        "### If we randomly select 10 people, what is the probability distribution\n",
        "### of having 0 to 10 people with a chronic disease?\n",
        "\n",
        "### We will use the Binomial Distribution to compute and visualize this.\n",
        "### =======================\n"
      ],
      "metadata": {
        "id": "UrD2SGiLEkjJ"
      }
    },
    {
      "cell_type": "code",
      "execution_count": 1,
      "metadata": {
        "id": "89Lx_tZBDYB2"
      },
      "outputs": [],
      "source": [
        "# import libraries\n",
        "import numpy as np\n",
        "import matplotlib.pyplot as plt\n",
        "import math"
      ]
    },
    {
      "cell_type": "code",
      "source": [
        "def binomial_pmf(n, p, k):\n",
        "    \"\"\"\n",
        "    Compute the probability of exactly k successes in n trials using\n",
        "    the binomial probability mass function.\n",
        "\n",
        "    Formula: P(X = k) = (nCk) * (p^k) * (1 - p)^(n - k)\n",
        "    \"\"\"\n",
        "    nCk = math.comb(n, k)  # Compute combinations using NumPy\n",
        "    return nCk * (p ** k) * ((1 - p) ** (n - k))"
      ],
      "metadata": {
        "id": "moV4AXKME7Mc"
      },
      "execution_count": 2,
      "outputs": []
    },
    {
      "cell_type": "code",
      "source": [
        "# Parameters\n",
        "n = 10   # Total number of people in the sample\n",
        "p = 0.45 # Probability of having a chronic disease\n",
        "\n",
        "# Compute probability for all possible values of k (0 to 10)\n",
        "x_values = np.arange(0, n + 1)  # Possible values from 0 to 10\n",
        "y_values = [binomial_pmf(n, p, k) for k in x_values]\n"
      ],
      "metadata": {
        "id": "AzvciqsFHJiO"
      },
      "execution_count": 3,
      "outputs": []
    },
    {
      "cell_type": "code",
      "source": [
        "# Print Probability Values\n",
        "for k, prob in zip(x_values, y_values):\n",
        "    print(f\"P(X = {k}): {prob:.4f}\")"
      ],
      "metadata": {
        "id": "-XaVRIo5HPuB",
        "outputId": "8b401edd-1916-4f41-c596-f1098db46354",
        "colab": {
          "base_uri": "https://localhost:8080/"
        }
      },
      "execution_count": 4,
      "outputs": [
        {
          "output_type": "stream",
          "name": "stdout",
          "text": [
            "P(X = 0): 0.0025\n",
            "P(X = 1): 0.0207\n",
            "P(X = 2): 0.0763\n",
            "P(X = 3): 0.1665\n",
            "P(X = 4): 0.2384\n",
            "P(X = 5): 0.2340\n",
            "P(X = 6): 0.1596\n",
            "P(X = 7): 0.0746\n",
            "P(X = 8): 0.0229\n",
            "P(X = 9): 0.0042\n",
            "P(X = 10): 0.0003\n"
          ]
        }
      ]
    }
  ]
}