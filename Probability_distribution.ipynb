{
 "cells": [
  {
   "cell_type": "markdown",
   "metadata": {
    "colab_type": "text",
    "id": "view-in-github"
   },
   "source": [
    "<a href=\"https://colab.research.google.com/github/gyhaan/probability-distribution__Group5/blob/main/Probability_distribution.ipynb\" target=\"_parent\"><img src=\"https://colab.research.google.com/assets/colab-badge.svg\" alt=\"Open In Colab\"/></a>"
   ]
  },
  {
   "cell_type": "markdown",
   "metadata": {
    "id": "UrD2SGiLEkjJ"
   },
   "source": [
    "# BINOMIAL DISTRIBUTION\n",
    "## Question:\n",
    "### In the United States, 45% of people have at least one chronic disease\n",
    "### (such as heart disease, cancer, diabetes, obesity, or hypertension).\n",
    "\n",
    "### If we randomly select 10 people, what is the probability distribution\n",
    "### of having 0 to 10 people with a chronic disease?\n",
    "\n",
    "### We will use the Binomial Distribution to compute and visualize this.\n",
    "### =======================\n"
   ]
  },
  {
   "cell_type": "code",
   "execution_count": 1,
   "metadata": {
    "id": "89Lx_tZBDYB2"
   },
   "outputs": [],
   "source": [
    "# import libraries\n",
    "import numpy as np\n",
    "import matplotlib.pyplot as plt\n",
    "import math"
   ]
  },
  {
   "cell_type": "code",
   "execution_count": 2,
   "metadata": {
    "id": "moV4AXKME7Mc"
   },
   "outputs": [],
   "source": [
    "def binomial_pmf(n, p, k):\n",
    "    \"\"\"\n",
    "    Compute the probability of exactly k successes in n trials using\n",
    "    the binomial probability mass function.\n",
    "\n",
    "    Formula: P(X = k) = (nCk) * (p^k) * (1 - p)^(n - k)\n",
    "    \"\"\"\n",
    "    nCk = math.comb(n, k)  # Compute combinations using NumPy\n",
    "    return nCk * (p ** k) * ((1 - p) ** (n - k))"
   ]
  },
  {
   "cell_type": "code",
   "execution_count": 3,
   "metadata": {
    "id": "AzvciqsFHJiO"
   },
   "outputs": [],
   "source": [
    "# Parameters\n",
    "n = 10   # Total number of people in the sample\n",
    "p = 0.45 # Probability of having a chronic disease\n",
    "\n",
    "# Compute probability for all possible values of k (0 to 10)\n",
    "x_values = np.arange(0, n + 1)  # Possible values from 0 to 10\n",
    "y_values = [binomial_pmf(n, p, k) for k in x_values]\n"
   ]
  },
  {
   "cell_type": "code",
   "execution_count": 4,
   "metadata": {
    "colab": {
     "base_uri": "https://localhost:8080/"
    },
    "id": "-XaVRIo5HPuB",
    "outputId": "8b401edd-1916-4f41-c596-f1098db46354"
   },
   "outputs": [
    {
     "name": "stdout",
     "output_type": "stream",
     "text": [
      "P(X = 0): 0.0025\n",
      "P(X = 1): 0.0207\n",
      "P(X = 2): 0.0763\n",
      "P(X = 3): 0.1665\n",
      "P(X = 4): 0.2384\n",
      "P(X = 5): 0.2340\n",
      "P(X = 6): 0.1596\n",
      "P(X = 7): 0.0746\n",
      "P(X = 8): 0.0229\n",
      "P(X = 9): 0.0042\n",
      "P(X = 10): 0.0003\n"
     ]
    }
   ],
   "source": [
    "# Print Probability Values\n",
    "for k, prob in zip(x_values, y_values):\n",
    "    print(f\"P(X = {k}): {prob:.4f}\")"
   ]
  }
 ],
 "metadata": {
  "colab": {
   "include_colab_link": true,
   "provenance": []
  },
  "kernelspec": {
   "display_name": "Python 3 (ipykernel)",
   "language": "python",
   "name": "python3"
  },
  "language_info": {
   "codemirror_mode": {
    "name": "ipython",
    "version": 3
   },
   "file_extension": ".py",
   "mimetype": "text/x-python",
   "name": "python",
   "nbconvert_exporter": "python",
   "pygments_lexer": "ipython3",
   "version": "3.12.8"
  }
 },
 "nbformat": 4,
 "nbformat_minor": 4
}
